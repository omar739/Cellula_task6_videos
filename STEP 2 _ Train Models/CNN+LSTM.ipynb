{
 "cells": [
  {
   "cell_type": "code",
   "execution_count": 15,
   "metadata": {},
   "outputs": [],
   "source": [
    "import os\n",
    "import cv2\n",
    "import torch\n",
    "import torch.nn as nn\n",
    "import torch.optim as optim\n",
    "import torchvision.transforms as transforms\n",
    "from torch.utils.data import Dataset, DataLoader\n",
    "import torchvision.models as models\n",
    "import numpy as np\n",
    "from sklearn.model_selection import train_test_split\n",
    "from sklearn.metrics import precision_score, recall_score, f1_score , accuracy_score\n",
    "from tqdm import tqdm"
   ]
  },
  {
   "cell_type": "code",
   "execution_count": 19,
   "metadata": {},
   "outputs": [
    {
     "name": "stdout",
     "output_type": "stream",
     "text": [
      "Train: 445, Validation: 127, Test: 64\n"
     ]
    }
   ],
   "source": [
    "from sklearn.model_selection import train_test_split\n",
    "dataset_root = \"D:/DEEP Leaning dataset/shop videos/Shop DataSet\"\n",
    "categories = [\"shop lifters\", \"non shop lifters\"]\n",
    "video_files = []\n",
    "labels = []\n",
    "for category in categories:\n",
    "    category_path = os.path.join(dataset_root, category)\n",
    "    for video in os.listdir(category_path):\n",
    "        video_files.append(os.path.join(category_path, video))\n",
    "        labels.append(1 if category == \"shop lifters\" else 0)\n",
    "train_videos, temp_videos, train_labels, temp_labels = train_test_split(\n",
    "    video_files, labels, test_size=0.3, stratify=labels, random_state=42)\n",
    "val_videos, test_videos, val_labels, test_labels = train_test_split(\n",
    "    temp_videos, temp_labels, test_size=1/3, stratify=temp_labels, random_state=42)\n",
    "print(f\"Train: {len(train_videos)}, Validation: {len(val_videos)}, Test: {len(test_videos)}\")\n",
    "\n"
   ]
  },
  {
   "cell_type": "code",
   "execution_count": 20,
   "metadata": {},
   "outputs": [
    {
     "name": "stdout",
     "output_type": "stream",
     "text": [
      "Train: 159, Validation: 159, Test: 159\n"
     ]
    }
   ],
   "source": [
    "class VideoDataset(Dataset):\n",
    "    def __init__(self, root_dir, transform=None, max_frames=70):\n",
    "        self.root_dir = root_dir\n",
    "        self.transform = transform\n",
    "        self.max_frames = max_frames\n",
    "        self.video_list = []\n",
    "        self.labels = []\n",
    "        self.class_to_idx = {\"shop lifters\": 0, \"non shop lifters\": 1}\n",
    "        for class_name in [\"shop lifters\", \"non shop lifters\"]:\n",
    "            class_dir = os.path.join(root_dir, class_name)\n",
    "            for filename in os.listdir(class_dir):\n",
    "                if filename.endswith(\".mp4\"):\n",
    "                    video_path = os.path.join(class_dir, filename)\n",
    "                    self.video_list.append(video_path)\n",
    "                    self.labels.append(self.class_to_idx[class_name])\n",
    "    def __len__(self):\n",
    "        return len(self.video_list)\n",
    "    def __getitem__(self, idx):\n",
    "        video_path = self.video_list[idx]\n",
    "        label = self.labels[idx]\n",
    "        cap = cv2.VideoCapture(video_path)\n",
    "        frames = []\n",
    "        while cap.isOpened():\n",
    "            ret, frame = cap.read()\n",
    "            if not ret:\n",
    "                break\n",
    "            frame = cv2.resize(frame, (224, 224))\n",
    "            frame = cv2.cvtColor(frame, cv2.COLOR_BGR2RGB)\n",
    "            frames.append(frame)\n",
    "        cap.release()\n",
    "        if len(frames) < self.max_frames:\n",
    "            pad = [np.zeros((224, 224, 3), dtype=np.uint8)] * (self.max_frames - len(frames))\n",
    "            frames.extend(pad)\n",
    "        else:\n",
    "            frames = frames[:self.max_frames]\n",
    "        frames = torch.tensor(np.array(frames), dtype=torch.float32).permute(0, 3, 1, 2) / 255.0  # (T, C, H, W)\n",
    "        label = torch.tensor(label, dtype=torch.long)\n",
    "        return frames, label\n",
    "#--------------------------------------------------------------------------------------------------------------\n",
    "transform = transforms.Compose([\n",
    "    transforms.ToTensor()\n",
    "])\n",
    "train_dataset = VideoDataset(root_dir=\"D:/DEEP Leaning dataset/shop videos/Shop DataSet\", transform=transform)\n",
    "val_dataset = VideoDataset(root_dir=\"D:/DEEP Leaning dataset/shop videos/Shop DataSet\", transform=transform)\n",
    "test_dataset = VideoDataset(root_dir=\"D:/DEEP Leaning dataset/shop videos/Shop DataSet\", transform=transform)\n",
    "#--------------------------------------------------------------------------------------------------------------\n",
    "num_train_samples = len(train_dataset)\n",
    "num_val_samples = len(val_dataset)\n",
    "num_test_samples = len(test_dataset)\n",
    "train_batch_size = max(1, num_train_samples // 155)  \n",
    "val_batch_size = max(1, num_val_samples // 155)\n",
    "test_batch_size = max(1, num_test_samples // 155)\n",
    "\n",
    "train_loader = DataLoader(train_dataset, batch_size=train_batch_size, shuffle=True, num_workers=0)\n",
    "val_loader = DataLoader(val_dataset, batch_size=val_batch_size, shuffle=False, num_workers=0)\n",
    "test_loader = DataLoader(test_dataset, batch_size=test_batch_size , shuffle=False, num_workers=0)\n",
    "print(f\"Train: {len(train_loader)}, Validation: {len(val_loader)}, Test: {len(test_loader)}\")"
   ]
  },
  {
   "cell_type": "code",
   "execution_count": 21,
   "metadata": {},
   "outputs": [],
   "source": [
    "class ResNet34FeatureExtractor(nn.Module):\n",
    "    def __init__(self):\n",
    "        super(ResNet34FeatureExtractor, self).__init__()\n",
    "        resnet = models.resnet34(weights=None)\n",
    "        self.feature_extractor = nn.Sequential(*list(resnet.children())[:-1])\n",
    "    def forward(self, x):\n",
    "        batch_size, seq_len, C, H, W = x.shape\n",
    "        x = x.view(batch_size * seq_len, C, H, W)\n",
    "        features = self.feature_extractor(x)\n",
    "        features = features.view(batch_size, seq_len, -1)\n",
    "        return features\n",
    "#-------------------------------------------------------------------------------------------------------------\n",
    "class CNN_LSTM(nn.Module):\n",
    "    def __init__(self, hidden_dim=256, num_layers=2, num_classes=2):\n",
    "        super(CNN_LSTM, self).__init__()\n",
    "        self.cnn = ResNet34FeatureExtractor()\n",
    "        self.lstm = nn.LSTM(input_size=512, hidden_size=hidden_dim, num_layers=num_layers, batch_first=True)\n",
    "        self.fc = nn.Linear(hidden_dim, num_classes)\n",
    "    def forward(self, x):\n",
    "        features = self.cnn(x)\n",
    "        lstm_out, _ = self.lstm(features)\n",
    "        last_frame_features = lstm_out[:, -1, :]\n",
    "        out = self.fc(last_frame_features)\n",
    "        return out"
   ]
  },
  {
   "cell_type": "code",
   "execution_count": 22,
   "metadata": {},
   "outputs": [],
   "source": [
    "device = torch.device(\"cuda\" if torch.cuda.is_available() else \"cpu\")\n",
    "model = CNN_LSTM().to(device)\n",
    "criterion = nn.CrossEntropyLoss()\n",
    "optimizer = optim.Adam(model.parameters(), lr=0.005)"
   ]
  },
  {
   "cell_type": "code",
   "execution_count": 13,
   "metadata": {},
   "outputs": [],
   "source": [
    "def train(model, train_loader, val_loader, num_epochs=10):\n",
    "    for epoch in range(num_epochs):\n",
    "        model.train()\n",
    "        total_loss = 0\n",
    "        correct = 0\n",
    "        total = 0\n",
    "        all_preds = []\n",
    "        all_labels = []\n",
    "        train_loop = tqdm(train_loader, desc=f\"Epoch {epoch+1}/{num_epochs}\", leave=True)\n",
    "        for videos, labels in train_loop:\n",
    "            videos, labels = videos.to(device), labels.to(device)\n",
    "            optimizer.zero_grad()\n",
    "            outputs = model(videos)\n",
    "            loss = criterion(outputs, labels)\n",
    "            loss.backward()\n",
    "            optimizer.step()\n",
    "            total_loss += loss.item()\n",
    "            preds = outputs.argmax(1)\n",
    "            correct += (preds == labels).sum().item()\n",
    "            total += labels.size(0)\n",
    "            all_preds.extend(preds.cpu().numpy())\n",
    "            all_labels.extend(labels.cpu().numpy())\n",
    "            train_loop.set_postfix(loss=total_loss / (total + 1e-6), acc=100 * correct / total)\n",
    "        train_acc = 100 * correct / total\n",
    "        train_precision = precision_score(all_labels, all_preds, average='weighted', zero_division=0)\n",
    "        train_f1 = f1_score(all_labels, all_preds, average='weighted', zero_division=0)\n",
    "        print(f\"\\nEpoch {epoch+1}/{num_epochs} -> Train Loss: {total_loss:.4f}, Train Acc: {train_acc:.2f}%, Train Precision: {train_precision:.2f}, Train F1: {train_f1:.2f}\")\n",
    "        evaluate(model, val_loader)\n",
    "def evaluate(model, val_loader):\n",
    "    model.eval()\n",
    "    correct = 0\n",
    "    total = 0\n",
    "    total_loss = 0\n",
    "    all_preds = []\n",
    "    all_labels = []\n",
    "\n",
    "    with torch.no_grad():\n",
    "        for videos, labels in val_loader:\n",
    "            videos, labels = videos.to(device), labels.to(device)\n",
    "            outputs = model(videos)\n",
    "            loss = criterion(outputs, labels)\n",
    "            total_loss += loss.item()\n",
    "\n",
    "            preds = outputs.argmax(1)\n",
    "            correct += (preds == labels).sum().item()\n",
    "            total += labels.size(0)\n",
    "\n",
    "            all_preds.extend(preds.cpu().numpy())\n",
    "            all_labels.extend(labels.cpu().numpy())\n",
    "\n",
    "    val_acc = 100 * correct / total\n",
    "    val_precision = precision_score(all_labels, all_preds, average='weighted', zero_division=0)\n",
    "    val_f1 = f1_score(all_labels, all_preds, average='weighted', zero_division=0)\n",
    "\n",
    "    print(f\"Validation -> Loss: {total_loss / len(val_loader):.4f}, Acc: {val_acc:.2f}%, Precision: {val_precision:.2f}, F1: {val_f1:.2f}\\n\")\n"
   ]
  },
  {
   "cell_type": "code",
   "execution_count": 14,
   "metadata": {},
   "outputs": [
    {
     "name": "stderr",
     "output_type": "stream",
     "text": [
      "Epoch 1/7: 100%|██████████| 159/159 [1:57:37<00:00, 44.38s/it, acc=50.2, loss=0.179]\n"
     ]
    },
    {
     "name": "stdout",
     "output_type": "stream",
     "text": [
      "\n",
      "Epoch 1/7 -> Train Loss: 113.8028, Train Acc: 50.16%, Train Precision: 0.50, Train F1: 0.50\n",
      "Validation -> Loss: 0.6941, Acc: 51.10%, Precision: 0.26, F1: 0.35\n",
      "\n"
     ]
    },
    {
     "name": "stderr",
     "output_type": "stream",
     "text": [
      "Epoch 2/7: 100%|██████████| 159/159 [1:55:09<00:00, 43.45s/it, acc=49.8, loss=0.174]\n"
     ]
    },
    {
     "name": "stdout",
     "output_type": "stream",
     "text": [
      "\n",
      "Epoch 2/7 -> Train Loss: 110.5983, Train Acc: 49.84%, Train Precision: 0.45, Train F1: 0.37\n",
      "Validation -> Loss: 0.6933, Acc: 51.10%, Precision: 0.26, F1: 0.35\n",
      "\n"
     ]
    },
    {
     "name": "stderr",
     "output_type": "stream",
     "text": [
      "Epoch 3/7: 100%|██████████| 159/159 [1:53:44<00:00, 42.92s/it, acc=50.2, loss=0.173]\n"
     ]
    },
    {
     "name": "stdout",
     "output_type": "stream",
     "text": [
      "\n",
      "Epoch 3/7 -> Train Loss: 110.3453, Train Acc: 50.16%, Train Precision: 0.49, Train F1: 0.46\n",
      "Validation -> Loss: 0.6933, Acc: 48.90%, Precision: 0.24, F1: 0.32\n",
      "\n"
     ]
    },
    {
     "name": "stderr",
     "output_type": "stream",
     "text": [
      "Epoch 4/7: 100%|██████████| 159/159 [1:55:32<00:00, 43.60s/it, acc=48.3, loss=0.174]\n"
     ]
    },
    {
     "name": "stdout",
     "output_type": "stream",
     "text": [
      "\n",
      "Epoch 4/7 -> Train Loss: 110.4399, Train Acc: 48.27%, Train Precision: 0.48, Train F1: 0.47\n",
      "Validation -> Loss: 0.6929, Acc: 51.10%, Precision: 0.26, F1: 0.35\n",
      "\n"
     ]
    },
    {
     "name": "stderr",
     "output_type": "stream",
     "text": [
      "Epoch 5/7: 100%|██████████| 159/159 [1:58:16<00:00, 44.63s/it, acc=49.5, loss=0.173]\n"
     ]
    },
    {
     "name": "stdout",
     "output_type": "stream",
     "text": [
      "\n",
      "Epoch 5/7 -> Train Loss: 110.3162, Train Acc: 49.53%, Train Precision: 0.49, Train F1: 0.49\n",
      "Validation -> Loss: 0.6933, Acc: 51.10%, Precision: 0.26, F1: 0.35\n",
      "\n"
     ]
    },
    {
     "name": "stderr",
     "output_type": "stream",
     "text": [
      "Epoch 6/7: 100%|██████████| 159/159 [2:17:14<00:00, 51.79s/it, acc=51.1, loss=0.174]\n"
     ]
    },
    {
     "name": "stdout",
     "output_type": "stream",
     "text": [
      "\n",
      "Epoch 6/7 -> Train Loss: 110.3540, Train Acc: 51.10%, Train Precision: 0.26, Train F1: 0.35\n",
      "Validation -> Loss: 0.6930, Acc: 51.10%, Precision: 0.26, F1: 0.35\n",
      "\n"
     ]
    },
    {
     "name": "stderr",
     "output_type": "stream",
     "text": [
      "Epoch 7/7: 100%|██████████| 159/159 [1:54:28<00:00, 43.20s/it, acc=50.8, loss=0.173]\n"
     ]
    },
    {
     "name": "stdout",
     "output_type": "stream",
     "text": [
      "\n",
      "Epoch 7/7 -> Train Loss: 110.3300, Train Acc: 50.79%, Train Precision: 0.51, Train F1: 0.51\n",
      "Validation -> Loss: 0.6930, Acc: 51.10%, Precision: 0.26, F1: 0.35\n",
      "\n"
     ]
    }
   ],
   "source": [
    "num_epochs = 7\n",
    "train(model, train_loader, val_loader, num_epochs)"
   ]
  },
  {
   "cell_type": "code",
   "execution_count": 16,
   "metadata": {},
   "outputs": [
    {
     "name": "stderr",
     "output_type": "stream",
     "text": [
      "Testing: 100%|██████████| 159/159 [43:07<00:00, 16.27s/it]"
     ]
    },
    {
     "name": "stdout",
     "output_type": "stream",
     "text": [
      "Accuracy  : 0.5110\n",
      "Precision : 0.7501\n",
      "Recall    : 0.5110\n",
      "F1 Score  : 0.3456\n"
     ]
    },
    {
     "name": "stderr",
     "output_type": "stream",
     "text": [
      "\n"
     ]
    },
    {
     "data": {
      "text/plain": [
       "(0.5110062893081762,\n",
       " np.float64(0.7501211384043353),\n",
       " np.float64(0.5110062893081762),\n",
       " np.float64(0.3456338065039693))"
      ]
     },
     "execution_count": 16,
     "metadata": {},
     "output_type": "execute_result"
    }
   ],
   "source": [
    "def test_model(model, test_loader):\n",
    "    model.eval()\n",
    "    all_preds = []\n",
    "    all_labels = []\n",
    "    with torch.no_grad():\n",
    "        test_loop = tqdm(test_loader, desc=\"Testing\", leave=True)\n",
    "        for videos, labels in test_loop:\n",
    "            videos, labels = videos.to(device), labels.to(device)\n",
    "            outputs = model(videos)\n",
    "            preds = torch.argmax(outputs, dim=1)\n",
    "            \n",
    "            all_preds.extend(preds.cpu().numpy())\n",
    "            all_labels.extend(labels.cpu().numpy())\n",
    "    accuracy = accuracy_score(all_labels, all_preds)\n",
    "    precision = precision_score(all_labels, all_preds, average='weighted', zero_division=1)\n",
    "    recall = recall_score(all_labels, all_preds, average='weighted', zero_division=1)\n",
    "    f1 = f1_score(all_labels, all_preds, average='weighted', zero_division=1)\n",
    "    print(f\"Accuracy  : {accuracy:.4f}\")\n",
    "    print(f\"Precision : {precision:.4f}\")\n",
    "    print(f\"Recall    : {recall:.4f}\")\n",
    "    print(f\"F1 Score  : {f1:.4f}\")\n",
    "\n",
    "    return accuracy, precision, recall, f1\n",
    "test_model(model, test_loader)"
   ]
  },
  {
   "cell_type": "code",
   "execution_count": 17,
   "metadata": {},
   "outputs": [
    {
     "name": "stderr",
     "output_type": "stream",
     "text": [
      "Testing: 100%|██████████| 159/159 [37:09<00:00, 14.03s/it]\n"
     ]
    },
    {
     "data": {
      "image/png": "[encoded data removed]",
      "text/plain": [
       "<Figure size 600x500 with 2 Axes>"
      ]
     },
     "metadata": {},
     "output_type": "display_data"
    },
    {
     "data": {
      "text/plain": [
       "array([[325,   0],\n",
       "       [311,   0]])"
      ]
     },
     "execution_count": 17,
     "metadata": {},
     "output_type": "execute_result"
    }
   ],
   "source": [
    "import seaborn as sns\n",
    "import matplotlib.pyplot as plt\n",
    "from sklearn.metrics import confusion_matrix\n",
    "def test_model_with_confusion_matrix(model, test_loader, class_names):\n",
    "    model.eval()\n",
    "    all_preds = []\n",
    "    all_labels = []\n",
    "    with torch.no_grad():\n",
    "        test_loop = tqdm(test_loader, desc=\"Testing\", leave=True)\n",
    "        for videos, labels in test_loop:\n",
    "            videos, labels = videos.to(device), labels.to(device)\n",
    "            outputs = model(videos)\n",
    "            preds = torch.argmax(outputs, dim=1) \n",
    "            all_preds.extend(preds.cpu().numpy())\n",
    "            all_labels.extend(labels.cpu().numpy())\n",
    "    cm = confusion_matrix(all_labels, all_preds)\n",
    "    plt.figure(figsize=(6, 5))\n",
    "    sns.heatmap(cm, annot=True, fmt=\"d\", cmap=\"Blues\", xticklabels=class_names, yticklabels=class_names)\n",
    "    plt.xlabel(\"Predicted Label\")\n",
    "    plt.ylabel(\"True Label\")\n",
    "    plt.title(\"Confusion Matrix\")\n",
    "    plt.show()\n",
    "    return cm\n",
    "class_names =[\"shop lifters\", \"non shop lifters\"]\n",
    "test_model_with_confusion_matrix(model, test_loader, class_names)\n"
   ]
  }
 ],
 "metadata": {
  "kernelspec": {
   "display_name": "dlib_venv",
   "language": "python",
   "name": "python3"
  },
  "language_info": {
   "codemirror_mode": {
    "name": "ipython",
    "version": 3
   },
   "file_extension": ".py",
   "mimetype": "text/x-python",
   "name": "python",
   "nbconvert_exporter": "python",
   "pygments_lexer": "ipython3",
   "version": "3.12.9"
  }
 },
 "nbformat": 4,
 "nbformat_minor": 2
}
